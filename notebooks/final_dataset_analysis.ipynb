{
 "cells": [
  {
   "cell_type": "markdown",
   "metadata": {},
   "source": [
    "# Analysis of dataset for first draft training set and final version"
   ]
  },
  {
   "cell_type": "markdown",
   "metadata": {},
   "source": [
    "## First round of filtering"
   ]
  },
  {
   "cell_type": "markdown",
   "metadata": {},
   "source": [
    "List of possible datasets with filters : so100 arm, more than 10 episodes."
   ]
  },
  {
   "cell_type": "code",
   "execution_count": 7,
   "metadata": {},
   "outputs": [],
   "source": [
    "\n",
    "first_data = [\n",
    "    \"satvikahuja/mixer_on_off_new_1\",\n",
    "    \"astroyat/cube\",\n",
    "    \"Ofiroz91/so_100_cube2bowl\",\n",
    "    \"HappyPablo/dec3_data2\",\n",
    "    \"ZCM5115/so100_1210\",\n",
    "    \"francescocrivelli/orange_feeding\",\n",
    "    \"francescocrivelli/carrot_eating\",\n",
    "    \"0x00raghu/toffee_color_sort_1\",\n",
    "    \"0x00raghu/toffee_color_sort_2_\",\n",
    "    \"0x00raghu/toffee_color_sort_3_\",\n",
    "    \"0x00raghu/toffee_color_sort_4\",\n",
    "    \"0x00raghu/toffee_red\",\n",
    "    \"0x00raghu/toffee_red_2\",\n",
    "    \"0x00raghu/toffee_red_3__\",\n",
    "    \"0x00raghu/toffee_blue\",\n",
    "    \"0x00raghu/toffee_blue_2\",\n",
    "    \"0x00raghu/toffee_to_hand_1\",\n",
    "    \"0x00raghu/toffee_to_hand_2\",\n",
    "    \"pranavsaroha/so100_legos4\",\n",
    "    \"pranavsaroha/so100_onelego2\",\n",
    "    \"liyitenga/so100_bi_hello\",\n",
    "    \"liyitenga/so100_bi_giveme5\",\n",
    "    \"jpata/so100_pick_place_tangerine\",\n",
    "    \"pranavsaroha/so100_onelego3\",\n",
    "    \"ZCM5115/so100_2Arm3cameras_movebox\",\n",
    "    \"pranavsaroha/so100_carrot_1\",\n",
    "    \"pranavsaroha/so100_carrot_2\",\n",
    "    \"pranavsaroha/so100_carrot_3\",\n",
    "    \"pranavsaroha/so100_carrot_4\",\n",
    "    \"pranavsaroha/so100_carrot_5\",\n",
    "    \"maximilienroberti/so100_lego_red_box\",\n",
    "    \"pranavsaroha/so100_squishy\",\n",
    "    \"rabhishek100/so100_train_dataset\",\n",
    "    \"pranavsaroha/so100_squishy100\",\n",
    "    \"swarajgosavi/kikobot_pusht_real_v2\",\n",
    "    \"pandaRQ/pickmed\",\n",
    "    \"pandaRQ/pick_med_1\",\n",
    "    \"swarajgosavi/act_kikobot_pusht_real\",\n",
    "    \"pranavsaroha/so100_squishy2colors\",\n",
    "    \"pranavsaroha/so100_squishy2colors_1\",\n",
    "    \"Chojins/chess_game_001_white\",\n",
    "    \"jmrog/so100_sweet_pick\",\n",
    "    \"Chojins/chess_game_002_white\",\n",
    "    \"pranavsaroha/so100_squishy2colors_2_new\",\n",
    "    \"Chojins/chess_game_003_white\",\n",
    "    \"aractingi/pick_place_lego_cube\",\n",
    "    \"Chojins/chess_game_004_white\",\n",
    "    \"Chojins/chess_game_005_white\",\n",
    "    \"Chojins/chess_game_006_white\",\n",
    "    \"Chojins/chess_game_007_white\",\n",
    "    \"koenvanwijk/blue2\",\n",
    "    \"jlitch/so100multicam3\",\n",
    "    \"koenvanwijk/blue52\",\n",
    "    \"jlitch/so100multicam6\",\n",
    "    \"aractingi/pick_place_lego_cube_1\",\n",
    "    \"jlitch/so100multicam7\",\n",
    "    \"vladfatu/so100_ds\",\n",
    "    \"Chojins/chess_game_000_white\",\n",
    "    \"HITHY/so100-kiwi\",\n",
    "    \"HITHY/so100_peach1\",\n",
    "    \"HITHY/so100_strawberry\",\n",
    "    \"HITHY/so100_redstrawberry\",\n",
    "    \"satvikahuja/orange_mixer_1\",\n",
    "    \"satvikahuja/mixer_on_off\",\n",
    "    \"vladfatu/so100_above\",\n",
    "    \"satvikahuja/orange_pick_place_new1\",\n",
    "    \"satvikahuja/mixer_on_off_new\",\n",
    "    \"danmac1/real_real332\",\n",
    "    \"FeiYjf/Makalu_push\",\n",
    "    \"liyitenga/so100_pick_taffy1\",\n",
    "    \"chmadran/so100_dataset04\",\n",
    "    \"FeiYjf/Maklu_dataset\",\n",
    "    \"FeiYjf/new_Dataset\",\n",
    "    \"liyitenga/so100_pick_taffy2\",\n",
    "    \"satvikahuja/mixer_on_off_new_4\",\n",
    "    \"koenvanwijk/orange50-1\",\n",
    "    \"CSCSXX/pick_place_cube_1.17\",\n",
    "    \"koenvanwijk/orange50-variation-2\",\n",
    "    \"FeiYjf/new_GtoR\",\n",
    "    \"liyitenga/so100_pick_taffy3\",\n",
    "    \"CSCSXX/pick_place_cube_1.18\",\n",
    "    \"liyitenga/so100_pick_taffy4\",\n",
    "    \"yuz1wan/so100_pick_pink\",\n",
    "    \"yuz1wan/so100_pick_wahaha\",\n",
    "    \"yuz1wan/so100_pp_pink\",\n",
    "    \"yuz1wan/so100_pour_cup\",\n",
    "    \"liyitenga/so100_pick_taffy5\",\n",
    "    \"liyitenga/so100_pick_taffy6\",\n",
    "    \"yuz1wan/so100_button\",\n",
    "    \"yuz1wan/so100_pickplace\",\n",
    "    \"liyitenga/so100_pick_taffy7\",\n",
    "    \"FeiYjf/push_gg\",\n",
    "    \"FeiYjf/push_0094\",\n",
    "    \"vladfatu/so100_office\",\n",
    "    \"swarajgosavi/act_kikobot_block_real\",\n",
    "    \"liyitenga/so100_pick_taffy8\",\n",
    "    \"phospho-ai/OrangeBrick3Cameras\",\n",
    "    \"dragon-95/so100_sorting\",\n",
    "    \"vaishanthr/toy_pick_place\",\n",
    "    \"SeanLMH/so100_picknplace_v2\",\n",
    "    \"dragon-95/so100_sorting_1\",\n",
    "    \"pepijn223/yellow_lego_in_box1\",\n",
    "    \"DimiSch/so100_50ep_2\",\n",
    "    \"DimiSch/so100_50ep_3\",\n",
    "    \"SeanLMH/so100_picknplace\",\n",
    "    \"nbaron99/so100_pick_and_place2\",\n",
    "    \"chmadran/so100_dataset08\",\n",
    "    \"nbaron99/so100_pick_and_place4\",\n",
    "    \"vaishanthr/toy_pickplace_50ep\",\n",
    "    \"Beegbrain/pick_place_green_block\",\n",
    "    \"Beegbrain/pick_place_green_block_lr\",\n",
    "    \"Ityl/so100_recording1\",\n",
    "    \"Ityl/so100_recording2\",\n",
    "    \"vaishanthr/toy_pickplace\",\n",
    "    \"ad330/so100_box_pickPlace\",\n",
    "    \"Beegbrain/so100_put_cube_cup\",\n",
    "    \"aractingi/push_green_cube_hf\",\n",
    "    \"aractingi/push_green_cube_hf_cropped_resized\",\n",
    "    \"dragon-95/so100_sorting_2\",\n",
    "    \"carpit680/giraffe_task\",\n",
    "    \"dragon-95/so100_sorting_3\",\n",
    "    \"carpit680/giraffe_sock_demo_1\",\n",
    "    \"DimiSch/so100_terra_50_2\",\n",
    "    \"carpit680/giraffe_sock_demo_2\",\n",
    "    \"aractingi/push_cube_to_face_reward\",\n",
    "    \"aractingi/push_cube_to_face_reward_cropped_resized\",\n",
    "    \"aractingi/push_cube_reward_data\",\n",
    "    \"aractingi/push_cube_reward_data_cropped_resized\",\n",
    "    \"aractingi/push_cube_offline_data\",\n",
    "    \"aractingi/push_cube_offline_data_cropped_resized\",\n",
    "    \"aractingi/push_cube_front_side_reward\",\n",
    "    \"aractingi/push_cube_front_side_reward_cropped_resized\",\n",
    "    \"aractingi/push_cube_front_side_reward_long\",\n",
    "    \"aractingi/push_cube_front_side_reward_long_cropped_resized\",\n",
    "    \"aractingi/push_cube_reward\",\n",
    "    \"aractingi/push_cube_reward_cropped_resized\",\n",
    "    \"aractingi/push_cube_square_reward_cropped_resized\",\n",
    "    \"aergogo/so100_pick_place\",\n",
    "    \"aractingi/push_cube_square_reward_1\",\n",
    "    \"aractingi/push_cube_square_reward_1_cropped_resized\",\n",
    "    \"aractingi/push_cube_square_light_reward\",\n",
    "    \"aractingi/push_cube_square_light_offline_demo\",\n",
    "    \"aractingi/push_cube_square_light_offline_demo_cropped_resized\",\n",
    "    \"denghj/dataset_red_tape01\",\n",
    "    \"aractingi/push_cube_square_offline_demo\",\n",
    "    \"aractingi/push_cube_square_offline_demo_cropped_resized\",\n",
    "    \"Beegbrain/stack_two_cubes\",\n",
    "    \"FeiYjf/Test_NNNN\",\n",
    "    \"LegrandFrederic/Orange-brick-lower-resolution\",\n",
    "    \"aractingi/pick_place_lego_cube_cropped_resized\",\n",
    "    \"aractingi/push_cube_overfit\",\n",
    "    \"aractingi/push_cube_overfit_cropped_resized\",\n",
    "    \"HITHY/so100_peach\",\n",
    "    \"zaringleb/so100_cube_2\",\n",
    "    \"HITHY/so100_peach3\",\n",
    "    \"HITHY/so100_peach4\",\n",
    "    \"andreasBihlmaier/dual_arm_transfer_2025_02_16\",\n",
    "    \"zaringleb/so100_cube_4_binary\",\n",
    "    \"1g0rrr/reward_pickplace1\",\n",
    "    \"1g0rrr/reward_pickplace1_cropped_resized\",\n",
    "    \"shreyasgite/so100_legocube_50\",\n",
    "    \"FeiYjf/Hold_Pieces\",\n",
    "    \"shreyasgite/so100_base_env\",\n",
    "    \"FeiYjf/Grab_Pieces\",\n",
    "    \"hegdearyandev/so100_eraser_cup_v1\",\n",
    "    \"jbraumann/so100_1902\",\n",
    "    \"triton7777/so100_dataset_mix\",\n",
    "    \"lirislab/bimanual_scene1_take1\",\n",
    "    \"Deason11/Open_the_drawer_to_place_items\",\n",
    "    \"liyitenga/so100_pick_taffy10\",\n",
    "    \"mikechambers/block_cup_5\",\n",
    "    \"Deason11/PLACE_TAPE_PUSH_DRAWER\",\n",
    "    \"zaringleb/so100_cube_5_linear\",\n",
    "    \"yuz1wan/so100_pickplace_0223_2\",\n",
    "    \"yuz1wan/so100_pickplace_0223_3\",\n",
    "    \"samsam0510/mj_data_temp\",\n",
    "    \"samsam0510/tape_insert_1\",\n",
    "    \"NONHUMAN-RESEARCH/SOARM100_TASK_VENDA\",\n",
    "    \"mikechambers/block_cup_14\",\n",
    "    \"samsam0510/tape_insert_2\",\n",
    "    \"pengjunkun/so100_push_to_hole\",\n",
    "    \"Deason11/Random_Kitchen\",\n",
    "    \"samsam0510/tooth_extraction_3\",\n",
    "    \"1g0rrr/reward_dataset_name2\",\n",
    "    \"1g0rrr/reward_dataset_name2_cropped_resized\",\n",
    "    \"1g0rrr/offline_dataset_name2\",\n",
    "    \"1g0rrr/offline_dataset_name2_cropped_resized\",\n",
    "    \"aractingi/push_cube_simp_cropped_resized\",\n",
    "    \"samsam0510/tooth_extraction_4\",\n",
    "    \"danielkr452/so100_work6\",\n",
    "    \"samsam0510/cube_reorientation_2\",\n",
    "    \"Loki0929/so100_100\",\n",
    "    \"yuz1wan/so100_fold_0227_1\",\n",
    "    \"yuz1wan/so100_fold_0227_2\",\n",
    "    \"speedyyoshi/so100_grasp_pink_block\",\n",
    "    \"kevin510/lerobot-cat-toy-placement\",\n",
    "    \"lirislab/bimanual_scene1_take2\",\n",
    "    \"lirislab/bimanual_scene1_take4\",\n",
    "    \"samsam0510/cube_reorientation_4\",\n",
    "    \"NONHUMAN-RESEARCH/SOARM100_TASK_VENDA_BOX\",\n",
    "    \"samsam0510/glove_reorientation_1\",\n",
    "    \"wangjl1512/pour_water\",\n",
    "    \"airthebear/so100_GL\",\n",
    "    \"zijian2022/noticehuman1\",\n",
    "    \"zijian2022/noticehuman2\",\n",
    "    \"DorayakiLin/so100_pick_charger_on_tissue\",\n",
    "    \"kantine/so100_kapla_tower6\",\n",
    "    \"zijian2022/noticehuman3\",\n",
    "    \"zijian2022/noticehuman5\",\n",
    "    \"zijian2022/llm40\",\n",
    "    \"Ashton3/lerobot-aloha\",\n",
    "    \"zijian2022/noticehuman50\",\n",
    "    \"AaronNewman/screwdriver_task_batch1\",\n",
    "    \"AaronNewman/screwdriver_task_batch2\",\n",
    "    \"AaronNewman/screwdriver_task_batch3\",\n",
    "    \"zijian2022/noticehuman60\",\n",
    "    \"zijian2022/noticehuman70\",\n",
    "    \"liuhuanjim013/so100_th\",\n",
    "    \"Bartm3/tape_to_bin\",\n",
    "]\n",
    "        "
   ]
  },
  {
   "cell_type": "markdown",
   "metadata": {},
   "source": [
    "see the fps, the number of camera keys"
   ]
  },
  {
   "cell_type": "markdown",
   "metadata": {},
   "source": [
    "## First Data analysis"
   ]
  },
  {
   "cell_type": "code",
   "execution_count": 8,
   "metadata": {},
   "outputs": [
    {
     "name": "stdout",
     "output_type": "stream",
     "text": [
      "Number of datasets with tag robot so100 and more than 10 episodes:  219\n"
     ]
    }
   ],
   "source": [
    "print(\"Number of datasets with tag robot so100 and more than 10 episodes: \", len(first_data))"
   ]
  },
  {
   "cell_type": "code",
   "execution_count": 9,
   "metadata": {},
   "outputs": [],
   "source": [
    "import numpy as np\n",
    "import pandas as pd\n",
    "import matplotlib.pyplot as plt\n",
    "import seaborn as sns"
   ]
  },
  {
   "cell_type": "code",
   "execution_count": 10,
   "metadata": {},
   "outputs": [],
   "source": [
    "all_data_file = \"../lerobot/scripts/lerobot_datasets.csv\"\n",
    "all_data = pd.read_csv(all_data_file)\n",
    "all_data = all_data[all_data[\"repo_id\"].isin(first_data)]"
   ]
  },
  {
   "cell_type": "code",
   "execution_count": 11,
   "metadata": {},
   "outputs": [
    {
     "data": {
      "image/png": "[encoded data removed]",
      "text/plain": [
       "<Figure size 1600x600 with 2 Axes>"
      ]
     },
     "metadata": {},
     "output_type": "display_data"
    }
   ],
   "source": [
    "# plot distribution of number of frames and number of episodes per dataset\n",
    "sns.set_theme(style=\"whitegrid\")\n",
    "fig, axes = plt.subplots(1, 2, figsize=(16, 6))\n",
    "sns.histplot(all_data, x=\"total_frames\", bins=50, kde=True, ax=axes[0])\n",
    "axes[0].set_title(\"Distribution of Frames per Dataset\")\n",
    "axes[0].set_xlabel(\"Number of frames\")\n",
    "axes[0].set_ylabel(\"Number of datasets\")\n",
    "\n",
    "sns.histplot(all_data, x=\"total_episodes\", bins=50, kde=True, ax=axes[1])\n",
    "axes[1].set_title(\"Distribution of Episodes per Dataset\")\n",
    "axes[1].set_xlabel(\"Number of episodes\")\n",
    "axes[1].set_ylabel(\"Number of datasets\")\n",
    "\n",
    "plt.tight_layout()\n",
    "plt.show()"
   ]
  },
  {
   "cell_type": "code",
   "execution_count": 12,
   "metadata": {},
   "outputs": [
    {
     "name": "stdout",
     "output_type": "stream",
     "text": [
      "top 10 datasets with most episodes\n",
      "                              repo_id  total_episodes\n",
      "1354               HITHY/so100_peach4             400\n",
      "541                   FeiYjf/new_GtoR             378\n",
      "1423       shreyasgite/so100_base_env             252\n",
      "820         dragon-95/so100_sorting_2             220\n",
      "670       SeanLMH/so100_picknplace_v2             201\n",
      "666         vaishanthr/toy_pick_place             200\n",
      "874         dragon-95/so100_sorting_3             200\n",
      "1617    samsam0510/tooth_extraction_4             200\n",
      "759          vaishanthr/toy_pickplace             200\n",
      "1642  samsam0510/cube_reorientation_2             182\n"
     ]
    }
   ],
   "source": [
    "print(\"top 10 datasets with most episodes\")\n",
    "print(all_data.sort_values(\"total_episodes\", ascending=False)[[\"repo_id\", \"total_episodes\"]].head(10))"
   ]
  },
  {
   "cell_type": "code",
   "execution_count": 14,
   "metadata": {},
   "outputs": [
    {
     "name": "stdout",
     "output_type": "stream",
     "text": [
      "Different number of cameras per dataset\n",
      "num_cameras\n",
      "2    174\n",
      "1     26\n",
      "3     12\n",
      "4      7\n",
      "Name: count, dtype: int64\n"
     ]
    }
   ],
   "source": [
    "print(\"Different number of cameras per dataset\")\n",
    "print(all_data[\"num_cameras\"].value_counts())"
   ]
  },
  {
   "cell_type": "code",
   "execution_count": 15,
   "metadata": {},
   "outputs": [
    {
     "name": "stdout",
     "output_type": "stream",
     "text": [
      "FPS per dataset\n",
      "fps\n",
      "30.0    191\n",
      "10.0     15\n",
      "15.0      7\n",
      "5.0       2\n",
      "60.0      1\n",
      "50.0      1\n",
      "25.0      1\n",
      "20.0      1\n",
      "Name: count, dtype: int64\n"
     ]
    }
   ],
   "source": [
    "print(\"FPS per dataset\")\n",
    "print(all_data[\"fps\"].value_counts())"
   ]
  },
  {
   "cell_type": "markdown",
   "metadata": {},
   "source": [
    "## Refined filtering"
   ]
  },
  {
   "cell_type": "markdown",
   "metadata": {},
   "source": [
    "We keep the datasets with more than 30 episodes, and + 30 fps"
   ]
  },
  {
   "cell_type": "code",
   "execution_count": 8,
   "metadata": {},
   "outputs": [],
   "source": [
    "\n",
    "refined_filtered = [\"satvikahuja/mixer_on_off_new_1\",\n",
    "    \"astroyat/cube\",\n",
    "    \"Ofiroz91/so_100_cube2bowl\",\n",
    "    \"ZCM5115/so100_1210\",\n",
    "    \"francescocrivelli/carrot_eating\",\n",
    "    \"pranavsaroha/so100_legos4\",\n",
    "    \"pranavsaroha/so100_onelego2\",\n",
    "    \"jpata/so100_pick_place_tangerine\",\n",
    "    \"pranavsaroha/so100_onelego3\",\n",
    "    \"ZCM5115/so100_2Arm3cameras_movebox\",\n",
    "    \"pranavsaroha/so100_carrot_1\",\n",
    "    \"pranavsaroha/so100_carrot_2\",\n",
    "    \"pranavsaroha/so100_carrot_3\",\n",
    "    \"pranavsaroha/so100_carrot_5\",\n",
    "    \"maximilienroberti/so100_lego_red_box\",\n",
    "    \"pranavsaroha/so100_squishy\",\n",
    "    \"rabhishek100/so100_train_dataset\",\n",
    "    \"pranavsaroha/so100_squishy100\",\n",
    "    \"pandaRQ/pickmed\",\n",
    "    \"pandaRQ/pick_med_1\",\n",
    "    \"swarajgosavi/act_kikobot_pusht_real\",\n",
    "    \"pranavsaroha/so100_squishy2colors_1\",\n",
    "    \"Chojins/chess_game_001_white\",\n",
    "    \"jmrog/so100_sweet_pick\",\n",
    "    \"Chojins/chess_game_002_white\",\n",
    "    \"pranavsaroha/so100_squishy2colors_2_new\",\n",
    "    \"Chojins/chess_game_003_white\",\n",
    "    \"Chojins/chess_game_004_white\",\n",
    "    \"Chojins/chess_game_005_white\",\n",
    "    \"Chojins/chess_game_006_white\",\n",
    "    \"Chojins/chess_game_007_white\",\n",
    "    \"koenvanwijk/blue52\",\n",
    "    \"jlitch/so100multicam7\",\n",
    "    \"vladfatu/so100_ds\",\n",
    "    \"Chojins/chess_game_000_white\",\n",
    "    \"HITHY/so100_strawberry\",\n",
    "    \"satvikahuja/orange_mixer_1\",\n",
    "    \"satvikahuja/mixer_on_off\",\n",
    "    \"vladfatu/so100_above\",\n",
    "    \"satvikahuja/orange_pick_place_new1\",\n",
    "    \"satvikahuja/mixer_on_off_new\",\n",
    "    \"FeiYjf/Makalu_push\",\n",
    "    \"chmadran/so100_dataset04\",\n",
    "    \"FeiYjf/Maklu_dataset\",\n",
    "    \"FeiYjf/new_Dataset\",\n",
    "    \"satvikahuja/mixer_on_off_new_4\",\n",
    "    \"koenvanwijk/orange50-1\",\n",
    "    \"CSCSXX/pick_place_cube_1.17\",\n",
    "    \"koenvanwijk/orange50-variation-2\",\n",
    "    \"FeiYjf/new_GtoR\",\n",
    "    \"liyitenga/so100_pick_taffy3\",\n",
    "    \"CSCSXX/pick_place_cube_1.18\",\n",
    "    \"liyitenga/so100_pick_taffy6\",\n",
    "    \"yuz1wan/so100_pickplace\",\n",
    "    \"liyitenga/so100_pick_taffy7\",\n",
    "    \"vladfatu/so100_office\",\n",
    "    \"swarajgosavi/act_kikobot_block_real\",\n",
    "    \"dragon-95/so100_sorting\",\n",
    "    \"SeanLMH/so100_picknplace_v2\",\n",
    "    \"dragon-95/so100_sorting_1\",\n",
    "    \"DimiSch/so100_50ep_2\",\n",
    "    \"DimiSch/so100_50ep_3\",\n",
    "    \"SeanLMH/so100_picknplace\",\n",
    "    \"nbaron99/so100_pick_and_place2\",\n",
    "    \"chmadran/so100_dataset08\",\n",
    "    \"nbaron99/so100_pick_and_place4\",\n",
    "    \"Beegbrain/pick_place_green_block\",\n",
    "    \"Ityl/so100_recording1\",\n",
    "    \"Ityl/so100_recording2\",\n",
    "    \"ad330/so100_box_pickPlace\",\n",
    "    \"dragon-95/so100_sorting_2\",\n",
    "    \"carpit680/giraffe_task\",\n",
    "    \"dragon-95/so100_sorting_3\",\n",
    "    \"carpit680/giraffe_sock_demo_1\",\n",
    "    \"DimiSch/so100_terra_50_2\",\n",
    "    \"aractingi/push_cube_offline_data\",\n",
    "    \"aractingi/push_cube_offline_data_cropped_resized\",\n",
    "    \"FeiYjf/Test_NNNN\",\n",
    "    \"HITHY/so100_peach\",\n",
    "    \"HITHY/so100_peach3\",\n",
    "    \"HITHY/so100_peach4\",\n",
    "    \"zaringleb/so100_cube_4_binary\",\n",
    "    \"shreyasgite/so100_legocube_50\",\n",
    "    \"shreyasgite/so100_base_env\",\n",
    "    \"FeiYjf/Grab_Pieces\",\n",
    "    \"hegdearyandev/so100_eraser_cup_v1\",\n",
    "    \"jbraumann/so100_1902\",\n",
    "    \"triton7777/so100_dataset_mix\",\n",
    "    \"Deason11/Open_the_drawer_to_place_items\",\n",
    "    \"Deason11/PLACE_TAPE_PUSH_DRAWER\",\n",
    "    \"zaringleb/so100_cube_5_linear\",\n",
    "    \"samsam0510/tape_insert_1\",\n",
    "    \"NONHUMAN-RESEARCH/SOARM100_TASK_VENDA\",\n",
    "    \"mikechambers/block_cup_14\",\n",
    "    \"samsam0510/tape_insert_2\",\n",
    "    \"pengjunkun/so100_push_to_hole\",\n",
    "    \"Deason11/Random_Kitchen\",\n",
    "    \"samsam0510/tooth_extraction_3\",\n",
    "    \"samsam0510/tooth_extraction_4\",\n",
    "    \"samsam0510/cube_reorientation_2\",\n",
    "    \"Loki0929/so100_100\",\n",
    "    \"speedyyoshi/so100_grasp_pink_block\",\n",
    "    \"kevin510/lerobot-cat-toy-placement\",\n",
    "    \"samsam0510/cube_reorientation_4\",\n",
    "    \"NONHUMAN-RESEARCH/SOARM100_TASK_VENDA_BOX\",\n",
    "    \"samsam0510/glove_reorientation_1\",\n",
    "    \"DorayakiLin/so100_pick_charger_on_tissue\",\n",
    "    \"zijian2022/noticehuman3\",\n",
    "    \"zijian2022/noticehuman5\",\n",
    "    \"zijian2022/noticehuman70\",\n",
    "    \"liuhuanjim013/so100_th\",\n",
    "    \"Bartm3/tape_to_bin\",\n",
    "]\n",
    "        "
   ]
  },
  {
   "cell_type": "code",
   "execution_count": 20,
   "metadata": {},
   "outputs": [
    {
     "name": "stdout",
     "output_type": "stream",
     "text": [
      "number of datasets with robot so100 tag, more than 30 episodes,  and 30 fps :  112\n"
     ]
    }
   ],
   "source": [
    "print(\"number of datasets with robot so100 tag, more than 30 episodes,  and 30 fps : \", len(refined_filtered))"
   ]
  },
  {
   "cell_type": "markdown",
   "metadata": {},
   "source": [
    "## Manual filtering"
   ]
  },
  {
   "cell_type": "markdown",
   "metadata": {},
   "source": [
    "Now we do manual filtering on those, to check the quality of the video. The language annotation is not taken into account."
   ]
  },
  {
   "cell_type": "markdown",
   "metadata": {},
   "source": [
    "We sample some episodes, and discard those not perfectly stable video or arm movements"
   ]
  },
  {
   "cell_type": "code",
   "execution_count": 63,
   "metadata": {},
   "outputs": [],
   "source": [
    "mid_quality = [\n",
    "    \"francescocrivelli/carrot_eating\",# unstable cameras\n",
    "    \"maximilienroberti/so100_lego_red_box\", # too dark\n",
    "    \"pranavsaroha/so100_squishy\", # hands visible in some frames\n",
    "    \"Chojins/chess_game*\", # each episode has a different pick and place action, 6 datasets \n",
    "    \"jmrog/so100_sweet_pick\", # noisy background\n",
    "    \"satvikahuja/mixer_on_off\", # poor lighting\n",
    "    \"satvikahuja/mixer_on_off_new\", # poor lighting\n",
    "    \"satvikahuja/mixer_on_off_new_4\", # jitter after mixer on\n",
    "    \"satvikahuja/orange_pick_place_new1\", # different locations for orange pick and place, noisy frames\n",
    "    \"FeiYjf/Makalu_push\", # too jittery\n",
    "    \"FeiYjf/Maklu_dataset\", # too jittery\n",
    "    \"FeiYjf/new_Dataset\", # too jittery\n",
    "    \"SeanLMH/so100_picknplace_v2\", # gripper not fully closed\n",
    "    \"pranavsaroha/so100_squishy2colors_1\", # changing ligth conditions\n",
    "    \"DimiSch/so100_50ep_2\", # unecessary gripper movements\n",
    "    \"jbraumann/so100_1902\", # gripper clapping in the end - no still end position\n",
    "    \"Deason11/Random_Kitchen\", # cameras not showing scene\n",
    "    \"zijian2022/noticehuman5\", # task is that action stops when hand becomes visible\n",
    "    \"zijian2022/noticehuman70\", # task is that action stops when hand becomes visible\n",
    "    \n",
    "]"
   ]
  },
  {
   "cell_type": "markdown",
   "metadata": {},
   "source": [
    "Removed from the original list because a bit too jerky, could still be usable"
   ]
  },
  {
   "cell_type": "code",
   "execution_count": 64,
   "metadata": {},
   "outputs": [],
   "source": [
    "removed_jerky_frames = [\n",
    "    \"vladfatu/so100_above\",\n",
    "    \"chmadran/so100_dataset04\", # some episodes have unnecessary movements\n",
    "    \"CSCSXX/pick_place_cube_1.17\",\n",
    "    \"CSCSXX/pick_place_cube_1.18\",\n",
    "    \"zaringleb/so100_cube_4_binary\",\n",
    "]"
   ]
  },
  {
   "cell_type": "markdown",
   "metadata": {},
   "source": [
    "Datasets that are in the final list but for which we need to remove the first episode during training"
   ]
  },
  {
   "cell_type": "code",
   "execution_count": 65,
   "metadata": {},
   "outputs": [],
   "source": [
    "kept_bad_first_episode = [\n",
    "    \"pranavsaroha/*\",\n",
    "    \"HITHY/so100_strawberry\",\n",
    "]"
   ]
  },
  {
   "cell_type": "markdown",
   "metadata": {},
   "source": [
    "Kept those datasets but it needs to be double checked "
   ]
  },
  {
   "cell_type": "code",
   "execution_count": 66,
   "metadata": {},
   "outputs": [],
   "source": [
    "to_double_check = [\n",
    "    \"FeiYjf/new_GtoR\",\n",
    "    \"liyitenga/so100_pick_taffy6\", # sometimes hand appears, sometimes not\n",
    "    \"dragon-95/so100_sorting*\", # differerent objects in same location\n",
    "    \"nbaron99/so100_pick_and_place*\", # a bit dark lighting\n",
    "    \"NONHUMAN-RESEARCH/SOARM100_TASK_VENDA\", # noisy background\n",
    "    \"liuhuanjim013/so100_th\", # not clear camera\n",
    "]\n"
   ]
  },
  {
   "cell_type": "markdown",
   "metadata": {},
   "source": [
    "## Final list "
   ]
  },
  {
   "cell_type": "code",
   "execution_count": null,
   "metadata": {},
   "outputs": [],
   "source": [
    "\n",
    "filtered_datasets = [\"pranavsaroha/so100_legos4\",\n",
    "    \"pranavsaroha/so100_onelego2\",\n",
    "    \"jpata/so100_pick_place_tangerine\",\n",
    "    \"pranavsaroha/so100_onelego3\",\n",
    "    \"pranavsaroha/so100_carrot_2\",\n",
    "    \"pranavsaroha/so100_carrot_5\",\n",
    "    \"pandaRQ/pick_med_1\",\n",
    "    \"HITHY/so100_strawberry\",\n",
    "    \"vladfatu/so100_above\",\n",
    "    \"koenvanwijk/orange50-1\",\n",
    "    \"koenvanwijk/orange50-variation-2\",\n",
    "    \"FeiYjf/new_GtoR\",\n",
    "    \"CSCSXX/pick_place_cube_1.18\",\n",
    "    \"vladfatu/so100_office\",\n",
    "    \"dragon-95/so100_sorting\",\n",
    "    \"dragon-95/so100_sorting_1\",\n",
    "    \"nbaron99/so100_pick_and_place4\",\n",
    "    \"Beegbrain/pick_place_green_block\",\n",
    "    \"Ityl/so100_recording2\",\n",
    "    \"dragon-95/so100_sorting_2\",\n",
    "    \"dragon-95/so100_sorting_3\",\n",
    "    \"aractingi/push_cube_offline_data\",\n",
    "    \"HITHY/so100_peach3\",\n",
    "    \"HITHY/so100_peach4\",\n",
    "    \"shreyasgite/so100_legocube_50\",\n",
    "    \"shreyasgite/so100_base_env\",\n",
    "    \"triton7777/so100_dataset_mix\",\n",
    "    \"Deason11/Open_the_drawer_to_place_items\",\n",
    "    \"Deason11/PLACE_TAPE_PUSH_DRAWER\",\n",
    "    \"NONHUMAN-RESEARCH/SOARM100_TASK_VENDA\",\n",
    "    \"mikechambers/block_cup_14\",\n",
    "    \"samsam0510/tooth_extraction_3\",\n",
    "    \"samsam0510/tooth_extraction_4\",\n",
    "    \"samsam0510/cube_reorientation_2\",\n",
    "    \"samsam0510/cube_reorientation_4\",\n",
    "    \"samsam0510/glove_reorientation_1\",\n",
    "    \"DorayakiLin/so100_pick_charger_on_tissue\",\n",
    "    \"zijian2022/noticehuman3\",\n",
    "    \"liuhuanjim013/so100_th\",\n",
    "    \"Bartm3/tape_to_bin\",\n",
    "    \n",
    "]\n",
    "        "
   ]
  },
  {
   "cell_type": "code",
   "execution_count": 38,
   "metadata": {},
   "outputs": [],
   "source": [
    "final_datasets = all_data[all_data[\"repo_id\"].isin(filtered_datasets)]\n",
    "final_datasets.to_csv(\"filtered_lerobot_community_datasets.csv\", index=False)"
   ]
  },
  {
   "cell_type": "code",
   "execution_count": 70,
   "metadata": {},
   "outputs": [
    {
     "name": "stdout",
     "output_type": "stream",
     "text": [
      "Number of datasets after filtering:  40\n",
      "\n",
      "total number of frames:  1931003\n",
      "total number of episodes:  4097\n",
      "\n",
      "average number of episodes per dataset:  102.425\n",
      "median number of episodes per dataset:  64.0\n",
      "max number of episodes per dataset:  400\n",
      "\n",
      "average number of frames per dataset:  48275.075\n",
      "median number of frames per dataset:  30421.5\n",
      "\n",
      "average episode length: 471.32121064193313 frames\n",
      "average episode length in seconds:  15.710707021397772\n"
     ]
    }
   ],
   "source": [
    "print(\"Number of datasets after filtering: \", len(final_datasets))\n",
    "print(\"\\ntotal number of frames: \", final_datasets[\"total_frames\"].sum())\n",
    "print(\"total number of episodes: \", final_datasets[\"total_episodes\"].sum())\n",
    "\n",
    "print(\"\\naverage number of episodes per dataset: \", final_datasets[\"total_episodes\"].mean())\n",
    "print(\"median number of episodes per dataset: \", final_datasets[\"total_episodes\"].median())\n",
    "print(\"max number of episodes per dataset: \", final_datasets[\"total_episodes\"].max())\n",
    "print(\"\\naverage number of frames per dataset: \", final_datasets[\"total_frames\"].mean())\n",
    "print(\"median number of frames per dataset: \", final_datasets[\"total_frames\"].median())\n",
    "\n",
    "print(f\"\\naverage episode length: {final_datasets['total_frames'].sum() / final_datasets['total_episodes'].sum()} frames\")\n",
    "\n",
    "print(\"average episode length in seconds: \", final_datasets[\"total_frames\"].sum() / final_datasets[\"total_episodes\"].sum() / 30)"
   ]
  },
  {
   "cell_type": "code",
   "execution_count": 67,
   "metadata": {},
   "outputs": [
    {
     "data": {
      "image/png": "[encoded data removed]",
      "text/plain": [
       "<Figure size 1600x600 with 2 Axes>"
      ]
     },
     "metadata": {},
     "output_type": "display_data"
    }
   ],
   "source": [
    "# final distribution of number of frames and number of episodes per dataset\n",
    "sns.set_theme(style=\"whitegrid\")\n",
    "fig, axes = plt.subplots(1, 2, figsize=(16, 6))\n",
    "sns.histplot(final_datasets, x=\"total_frames\", bins=50, kde=True, ax=axes[0])\n",
    "axes[0].set_title(\"Distribution of Frames per Dataset\")\n",
    "axes[0].set_xlabel(\"Number of frames\")\n",
    "axes[0].set_ylabel(\"Number of datasets\")\n",
    "\n",
    "sns.histplot(final_datasets, x=\"total_episodes\", bins=50, kde=True, ax=axes[1])\n",
    "axes[1].set_title(\"Distribution of Episodes per Dataset\")\n",
    "axes[1].set_xlabel(\"Number of episodes\")\n",
    "axes[1].set_ylabel(\"Number of datasets\")\n",
    "\n",
    "plt.tight_layout()\n",
    "plt.show()"
   ]
  },
  {
   "cell_type": "code",
   "execution_count": 41,
   "metadata": {},
   "outputs": [
    {
     "name": "stdout",
     "output_type": "stream",
     "text": [
      "number of tasks:  total_tasks\n",
      "1    39\n",
      "7     1\n",
      "Name: count, dtype: int64\n"
     ]
    }
   ],
   "source": [
    "print(\"number of tasks: \", final_datasets[\"total_tasks\"].value_counts())"
   ]
  },
  {
   "cell_type": "code",
   "execution_count": 60,
   "metadata": {},
   "outputs": [
    {
     "name": "stdout",
     "output_type": "stream",
     "text": [
      "dataset with 7 tasks: \n",
      "['triton7777/so100_dataset_mix']\n",
      "{\n",
      "  \"0\": \"pick black tape and place inside white tape\",\n",
      "  \"1\": \"pick gift miniatures and put it in black box\",\n",
      "  \"2\": \"sort mixed objects\",\n",
      "  \"3\": \"put pens in holder\",\n",
      "  \"4\": \"put pens bottles and suitable items in the pen holder as suits\",\n",
      "  \"5\": \"put oranges in yellow basket\",\n",
      "  \"6\": \"stack plates and cup\"\n",
      "}\n"
     ]
    }
   ],
   "source": [
    "print(\"dataset with 7 tasks: \")\n",
    "d = final_datasets[final_datasets[\"total_tasks\"] == 7]\n",
    "print(d[\"repo_id\"].values)\n",
    "import json\n",
    "print(json.dumps(json.loads(d[\"tasks\"].values[0]), indent=2))"
   ]
  },
  {
   "cell_type": "code",
   "execution_count": 73,
   "metadata": {},
   "outputs": [
    {
     "name": "stdout",
     "output_type": "stream",
     "text": [
      "dataset with the most episodes: \n",
      "repo_id                                          HITHY/so100_peach4\n",
      "username                                                      HITHY\n",
      "robot_type                                                    so100\n",
      "total_episodes                                                  400\n",
      "total_frames                                                  98409\n",
      "fps                                                            30.0\n",
      "camera_keys                               observation.images.laptop\n",
      "num_cameras                                                       1\n",
      "video_keys                                observation.images.laptop\n",
      "has_video                                                      True\n",
      "total_tasks                                                       1\n",
      "tasks               {\"0\": \"Grasp a peach and put it on the plate.\"}\n",
      "is_sim                                                        False\n",
      "is_eval                                                       False\n",
      "features          action,observation.state,observation.images.la...\n",
      "chunks_size                                                    1000\n",
      "total_chunks                                                      1\n",
      "version                                                         2.0\n",
      "Name: 1354, dtype: object\n"
     ]
    }
   ],
   "source": [
    "print(\"dataset with the most episodes: \")\n",
    "print(final_datasets.iloc[np.argmax(final_datasets[\"total_episodes\"])])"
   ]
  },
  {
   "cell_type": "markdown",
   "metadata": {},
   "source": [
    "task description stats. not reliable, many datasets have unprecise task descriptions"
   ]
  },
  {
   "cell_type": "code",
   "execution_count": 62,
   "metadata": {},
   "outputs": [
    {
     "name": "stdout",
     "output_type": "stream",
     "text": [
      "task diversity: \n",
      "[('{\"0\":', 40), ('the', 29), ('in', 23), ('and', 20), ('it', 16), ('put', 12), ('a', 11), ('\"Grasp', 8), ('box', 8), ('\"pick', 6), ('object', 6), ('place', 5), ('bin.\"}', 5), ('block', 5), ('green', 4), ('lego', 4), ('red', 4), ('box\"}', 4), ('\"Put', 4), ('A', 4)]\n"
     ]
    }
   ],
   "source": [
    "print(\"task diversity: \")\n",
    "# most common words that appear in the tasks\n",
    "from collections import Counter\n",
    "words = []\n",
    "for t in final_datasets[\"tasks\"]:\n",
    "    words.extend(t.split())\n",
    "c = Counter(words)\n",
    "print(c.most_common(20))"
   ]
  }
 ],
 "metadata": {
  "kernelspec": {
   "display_name": "lerobot",
   "language": "python",
   "name": "python3"
  },
  "language_info": {
   "codemirror_mode": {
    "name": "ipython",
    "version": 3
   },
   "file_extension": ".py",
   "mimetype": "text/x-python",
   "name": "python",
   "nbconvert_exporter": "python",
   "pygments_lexer": "ipython3",
   "version": "3.10.13"
  }
 },
 "nbformat": 4,
 "nbformat_minor": 2
}
